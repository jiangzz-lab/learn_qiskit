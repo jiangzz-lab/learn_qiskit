{
 "cells": [
  {
   "cell_type": "code",
   "execution_count": 1,
   "metadata": {},
   "outputs": [],
   "source": [
    "%load_ext autoreload\n",
    "%autoreload 2"
   ]
  },
  {
   "cell_type": "code",
   "execution_count": 2,
   "metadata": {},
   "outputs": [],
   "source": [
    "import qiskit_metal as metal\n",
    "from qiskit_metal import designs, draw\n",
    "from qiskit_metal import MetalGUI, Dict, open_docs"
   ]
  },
  {
   "cell_type": "code",
   "execution_count": 3,
   "metadata": {},
   "outputs": [],
   "source": [
    "design = designs.DesignPlanar()"
   ]
  },
  {
   "cell_type": "code",
   "execution_count": 4,
   "metadata": {},
   "outputs": [],
   "source": [
    "from qiskit_metal.qlibrary.qubits.transmon_cross import TransmonCross"
   ]
  },
  {
   "cell_type": "code",
   "execution_count": 5,
   "metadata": {},
   "outputs": [
    {
     "data": {
      "text/plain": [
       "{'pos_x': '0.0um',\n",
       " 'pos_y': '0.0um',\n",
       " 'orientation': '0.0',\n",
       " 'chip': 'main',\n",
       " 'layer': '1',\n",
       " 'connection_pads': {},\n",
       " '_default_connection_pads': {'connector_type': '0',\n",
       "  'claw_length': '30um',\n",
       "  'ground_spacing': '5um',\n",
       "  'claw_width': '10um',\n",
       "  'claw_gap': '6um',\n",
       "  'connector_location': '0'},\n",
       " 'cross_width': '20um',\n",
       " 'cross_length': '200um',\n",
       " 'cross_gap': '20um',\n",
       " 'hfss_inductance': '10nH',\n",
       " 'hfss_capacitance': 0,\n",
       " 'hfss_resistance': 0,\n",
       " 'hfss_mesh_kw_jj': 7e-06,\n",
       " 'q3d_inductance': '10nH',\n",
       " 'q3d_capacitance': 0,\n",
       " 'q3d_resistance': 0,\n",
       " 'q3d_mesh_kw_jj': 7e-06,\n",
       " 'gds_cell_name': 'my_other_junction'}"
      ]
     },
     "execution_count": 5,
     "metadata": {},
     "output_type": "execute_result"
    }
   ],
   "source": [
    "TransmonCross.get_template_options(design)"
   ]
  },
  {
   "cell_type": "code",
   "execution_count": 6,
   "metadata": {},
   "outputs": [],
   "source": [
    "xmon_options = dict(\n",
    "    connection_pads=dict(\n",
    "        a = dict(connector_location = '0', connector_type = '0'),\n",
    "        b = dict(connector_location = '90', connector_type = '0'),\n",
    "        c = dict(connector_location = '180', connector_type = '1'),\n",
    "    ),\n",
    ")"
   ]
  },
  {
   "cell_type": "code",
   "execution_count": 7,
   "metadata": {},
   "outputs": [
    {
     "name": "stderr",
     "output_type": "stream",
     "text": [
      "WARNING:py.warnings:c:\\Users\\Lai Lab-DR\\anaconda3\\envs\\metalenv\\lib\\site-packages\\pandas\\core\\dtypes\\cast.py:127: ShapelyDeprecationWarning: The array interface is deprecated and will no longer work in Shapely 2.0. Convert the '.coords' to a numpy array instead.\n",
      "  arr = construct_1d_object_array_from_listlike(values)\n",
      "\n"
     ]
    }
   ],
   "source": [
    "q1 = TransmonCross(design, 'Q1', options=xmon_options)"
   ]
  },
  {
   "cell_type": "code",
   "execution_count": 8,
   "metadata": {},
   "outputs": [
    {
     "name": "stderr",
     "output_type": "stream",
     "text": [
      "09:54AM 26s CRITICAL [_qt_message_handler]: line: 0, func: None(), file: None  WARNING: Unable to open default EUDC font: \"EUDC.TTE\"\n",
      "\n"
     ]
    }
   ],
   "source": [
    "gui = MetalGUI(design)"
   ]
  },
  {
   "cell_type": "code",
   "execution_count": 9,
   "metadata": {},
   "outputs": [
    {
     "name": "stderr",
     "output_type": "stream",
     "text": [
      "WARNING:py.warnings:c:\\Users\\Lai Lab-DR\\anaconda3\\envs\\metalenv\\lib\\site-packages\\pandas\\core\\dtypes\\cast.py:127: ShapelyDeprecationWarning: The array interface is deprecated and will no longer work in Shapely 2.0. Convert the '.coords' to a numpy array instead.\n",
      "  arr = construct_1d_object_array_from_listlike(values)\n",
      "\n"
     ]
    }
   ],
   "source": [
    "gui.rebuild()\n",
    "gui.autoscale()\n",
    "gui.zoom_on_components(['Q1'])"
   ]
  },
  {
   "cell_type": "code",
   "execution_count": 10,
   "metadata": {},
   "outputs": [
    {
     "data": {
      "text/plain": [
       "\u001b[95m\u001b[1mname:    \u001b[94m\u001b[1mQ1\u001b[0m\n",
       "\u001b[95m\u001b[1mclass:   \u001b[94m\u001b[1mTransmonCross         \u001b[0m\n",
       "\u001b[95m\u001b[1moptions: \u001b[0m\n",
       "  'pos_x'             : '0.0um',                      \n",
       "  'pos_y'             : '0.0um',                      \n",
       "  'orientation'       : '0.0',                        \n",
       "  'chip'              : 'main',                       \n",
       "  'layer'             : '1',                          \n",
       "  \u001b[1m'connection_pads'   \u001b[0m: {\n",
       "       \u001b[1m'a'                 \u001b[0m: {\n",
       "            'connector_type'    : '0',                          \n",
       "            'claw_length'       : '30um',                       \n",
       "            'ground_spacing'    : '5um',                        \n",
       "            'claw_width'        : '10um',                       \n",
       "            'claw_gap'          : '6um',                        \n",
       "            'connector_location': '0',                          \n",
       "                             },\n",
       "       \u001b[1m'b'                 \u001b[0m: {\n",
       "            'connector_type'    : '0',                          \n",
       "            'claw_length'       : '30um',                       \n",
       "            'ground_spacing'    : '5um',                        \n",
       "            'claw_width'        : '10um',                       \n",
       "            'claw_gap'          : '6um',                        \n",
       "            'connector_location': '90',                         \n",
       "                             },\n",
       "       \u001b[1m'c'                 \u001b[0m: {\n",
       "            'connector_type'    : '1',                          \n",
       "            'claw_length'       : '30um',                       \n",
       "            'ground_spacing'    : '5um',                        \n",
       "            'claw_width'        : '10um',                       \n",
       "            'claw_gap'          : '6um',                        \n",
       "            'connector_location': '180',                        \n",
       "                             },\n",
       "                        },\n",
       "  'cross_width'       : '20um',                       \n",
       "  'cross_length'      : '200um',                      \n",
       "  'cross_gap'         : '20um',                       \n",
       "  'hfss_inductance'   : '10nH',                       \n",
       "  'hfss_capacitance'  : 0,                            \n",
       "  'hfss_resistance'   : 0,                            \n",
       "  'hfss_mesh_kw_jj'   : 7e-06,                        \n",
       "  'q3d_inductance'    : '10nH',                       \n",
       "  'q3d_capacitance'   : 0,                            \n",
       "  'q3d_resistance'    : 0,                            \n",
       "  'q3d_mesh_kw_jj'    : 7e-06,                        \n",
       "  'gds_cell_name'     : 'my_other_junction',          \n",
       "\u001b[95m\u001b[1mmodule:  \u001b[94m\u001b[1mqiskit_metal.qlibrary.qubits.transmon_cross\u001b[0m\n",
       "\u001b[95m\u001b[1mid:      \u001b[94m\u001b[1m1\u001b[0m"
      ]
     },
     "execution_count": 10,
     "metadata": {},
     "output_type": "execute_result"
    }
   ],
   "source": [
    "q1"
   ]
  },
  {
   "cell_type": "code",
   "execution_count": null,
   "metadata": {},
   "outputs": [],
   "source": []
  }
 ],
 "metadata": {
  "kernelspec": {
   "display_name": "metalenv",
   "language": "python",
   "name": "python3"
  },
  "language_info": {
   "codemirror_mode": {
    "name": "ipython",
    "version": 3
   },
   "file_extension": ".py",
   "mimetype": "text/x-python",
   "name": "python",
   "nbconvert_exporter": "python",
   "pygments_lexer": "ipython3",
   "version": "3.10.8"
  },
  "orig_nbformat": 4,
  "vscode": {
   "interpreter": {
    "hash": "ba167f3dbe24f5d5a054e099455517941d3003598752d7db82bd09e790f22877"
   }
  }
 },
 "nbformat": 4,
 "nbformat_minor": 2
}
